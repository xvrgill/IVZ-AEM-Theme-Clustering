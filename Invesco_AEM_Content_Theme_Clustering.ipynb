{
  "nbformat": 4,
  "nbformat_minor": 0,
  "metadata": {
    "colab": {
      "name": "Invesco AEM Content Theme Clustering.ipynb",
      "provenance": [],
      "collapsed_sections": [],
      "authorship_tag": "ABX9TyNqftv7snnaCspZ7GJmyliF",
      "include_colab_link": true
    },
    "kernelspec": {
      "name": "python3",
      "display_name": "Python 3"
    },
    "language_info": {
      "name": "python"
    }
  },
  "cells": [
    {
      "cell_type": "markdown",
      "metadata": {
        "id": "view-in-github",
        "colab_type": "text"
      },
      "source": [
        "<a href=\"https://colab.research.google.com/github/xvrgill/IVZ-AEM-Theme-Clustering/blob/main/Invesco_AEM_Content_Theme_Clustering.ipynb\" target=\"_parent\"><img src=\"https://colab.research.google.com/assets/colab-badge.svg\" alt=\"Open In Colab\"/></a>"
      ]
    },
    {
      "cell_type": "markdown",
      "source": [
        "# AEM Content Theme Clustering\n",
        "\n",
        "Assigning relevant content theme tags to Invesco US insights pages using unsupervised machine learning algorithms.\n",
        "\n",
        "## Problem\n",
        "\n",
        "Invesco uses a declared set of content tags, known more commonly as *topic tags*, to identify insight pages that fall under various financial segments. Examples of such segments are *Markets & Economy*, *Legislative & Regulatory*, and *Research*.\n",
        "\n",
        "While these designations work well as a general segmenter of content for the company's audiences, it disallows for content performance metrics to be aggregated in several key ways:\n",
        "\n",
        "1. Content metrics can't be analyzed across hard coded topic tags\n",
        "2. Analysis of content niches is foregone in favor of a simplified user experience\n",
        "3. Limiting topics simultaneosly limits the potential for interest-based targeting and reporting\n",
        "\n",
        "### Topic Tag Issues - An Analytical Perspective\n",
        "\n",
        "Each of the numbered items below correspond to the three problems that were raised above. Here we dig deeper into what they mean and why they are relevant from an analytical perspective.\n",
        "\n",
        "1. ***Lack of Cross Reporting***   \n",
        "Content is siloed based on its user defined category rather than on the content itself. Two similar articles on COVID-19 could land in two completely different topics because an employee decided that they belonged there and **not** because the content itself differs to such a meaningful degree.  \n",
        "\n",
        "2. ***Content Niche Discovery Versus User Experience***  \n",
        "Relevant axioms across several pieces of content are unitentionally ignored for the sake of improving user experience. No reader wants to sift through dozens of themes to find content of interest and no reasonable marketer would expect them too. This is why topic tags are a relevant way to group web content, however it is a double edged sword. By manually creating a hanful of topics for the sake of simplicity, more nuanced content segmentations must be disregarded. This is good for user experience but very bad for analytics.  \n",
        "\n",
        "3. ***Limitations on Interest Based Targeting***  \n",
        "Topics, as they are used on Invesco's AEM site, are broad by design. This effectively bars marketers from using hypersegmentation tactics to more intelligently serve content to they're audiences based on interest. If you were a subscriber to a newsletter that regularly clicks through on recent market volatility articles, what would you rather see? Any and all news pertaining to Markets & Economy, or are you really interested in big tech investment? Isn't it possible that you are highly engaged not because you love watching the markets, but because you're heavily invested in Big Tech and the sector's volitity in early 2022 made your palms sweat?\n",
        "\n",
        "### Theme Tag Implementation\n",
        "\n",
        "It is important to recognize that our proposed solution to the challenges surrounding topic."
      ],
      "metadata": {
        "id": "KbaEN1J1m2vX"
      }
    },
    {
      "cell_type": "code",
      "source": [
        ""
      ],
      "metadata": {
        "id": "pjpiDkxC8zPh"
      },
      "execution_count": null,
      "outputs": []
    }
  ]
}